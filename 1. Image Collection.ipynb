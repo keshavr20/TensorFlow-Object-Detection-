{
 "cells": [
  {
   "cell_type": "markdown",
   "metadata": {},
   "source": [
    "# 1. Import Dependencies"
   ]
  },
  {
   "cell_type": "code",
   "execution_count": 19,
   "metadata": {
    "scrolled": true
   },
   "outputs": [
    {
     "name": "stdout",
     "output_type": "stream",
     "text": [
      "Requirement already satisfied: opencv-python in d:\\self projects\\tensorflow object detection\\tfodcourse\\obdet\\lib\\site-packages (4.6.0.66)\n",
      "Requirement already satisfied: numpy>=1.14.5 in d:\\self projects\\tensorflow object detection\\tfodcourse\\obdet\\lib\\site-packages (from opencv-python) (1.23.1)\n"
     ]
    }
   ],
   "source": [
    "!pip install opencv-python"
   ]
  },
  {
   "cell_type": "code",
   "execution_count": 20,
   "metadata": {},
   "outputs": [],
   "source": [
    "# Import opencv\n",
    "import cv2 \n",
    "\n",
    "# Import uuid\n",
    "import uuid\n",
    "\n",
    "# Import Operating System\n",
    "import os\n",
    "\n",
    "# Import time\n",
    "import time"
   ]
  },
  {
   "cell_type": "markdown",
   "metadata": {},
   "source": [
    "# 2. Define Images to Collect"
   ]
  },
  {
   "cell_type": "code",
   "execution_count": 22,
   "metadata": {},
   "outputs": [],
   "source": [
    "labels = ['Left', 'Right', 'Up', 'Down']\n",
    "number_imgs = 10"
   ]
  },
  {
   "cell_type": "markdown",
   "metadata": {},
   "source": [
    "# 3. Setup Folders "
   ]
  },
  {
   "cell_type": "code",
   "execution_count": 23,
   "metadata": {},
   "outputs": [],
   "source": [
    "IMAGES_PATH = os.path.join('Tensorflow', 'workspace', 'images', 'collectedimages')"
   ]
  },
  {
   "cell_type": "code",
   "execution_count": 24,
   "metadata": {},
   "outputs": [],
   "source": [
    "if not os.path.exists(IMAGES_PATH):\n",
    "    if os.name == 'posix':\n",
    "        !mkdir -p {IMAGES_PATH}\n",
    "    if os.name == 'nt':\n",
    "         !mkdir {IMAGES_PATH}\n",
    "for label in labels:\n",
    "    path = os.path.join(IMAGES_PATH, label)\n",
    "    if not os.path.exists(path):\n",
    "        !mkdir {path}"
   ]
  },
  {
   "cell_type": "markdown",
   "metadata": {},
   "source": [
    "# 4. Capture Images"
   ]
  },
  {
   "cell_type": "code",
   "execution_count": 25,
   "metadata": {},
   "outputs": [
    {
     "name": "stdout",
     "output_type": "stream",
     "text": [
      "Collecting images for Left\n",
      "Collecting image 0\n",
      "Collecting image 1\n",
      "Collecting image 2\n",
      "Collecting image 3\n",
      "Collecting image 4\n",
      "Collecting image 5\n",
      "Collecting image 6\n",
      "Collecting image 7\n",
      "Collecting image 8\n",
      "Collecting image 9\n",
      "Collecting images for Right\n",
      "Collecting image 0\n",
      "Collecting image 1\n",
      "Collecting image 2\n",
      "Collecting image 3\n",
      "Collecting image 4\n",
      "Collecting image 5\n",
      "Collecting image 6\n",
      "Collecting image 7\n",
      "Collecting image 8\n",
      "Collecting image 9\n",
      "Collecting images for Up\n",
      "Collecting image 0\n",
      "Collecting image 1\n",
      "Collecting image 2\n",
      "Collecting image 3\n",
      "Collecting image 4\n",
      "Collecting image 5\n",
      "Collecting image 6\n",
      "Collecting image 7\n",
      "Collecting image 8\n",
      "Collecting image 9\n",
      "Collecting images for Down\n",
      "Collecting image 0\n",
      "Collecting image 1\n",
      "Collecting image 2\n",
      "Collecting image 3\n",
      "Collecting image 4\n",
      "Collecting image 5\n",
      "Collecting image 6\n",
      "Collecting image 7\n",
      "Collecting image 8\n",
      "Collecting image 9\n"
     ]
    }
   ],
   "source": [
    "for label in labels:\n",
    "    cap = cv2.VideoCapture(0)\n",
    "    print('Collecting images for {}'.format(label))\n",
    "    time.sleep(5)\n",
    "    for imgnum in range(number_imgs):\n",
    "        print('Collecting image {}'.format(imgnum))\n",
    "        ret, frame = cap.read()\n",
    "        imgname = os.path.join(IMAGES_PATH,label,label+'.'+'{}.jpg'.format(str(uuid.uuid1())))\n",
    "        cv2.imwrite(imgname, frame)\n",
    "        cv2.imshow('frame', frame)\n",
    "        time.sleep(2)\n",
    "\n",
    "        if cv2.waitKey(1) & 0xFF == ord('q'):\n",
    "            break\n",
    "cap.release()\n",
    "cv2.destroyAllWindows()"
   ]
  },
  {
   "cell_type": "markdown",
   "metadata": {},
   "source": [
    "# 5. Image Labelling"
   ]
  },
  {
   "cell_type": "code",
   "execution_count": 26,
   "metadata": {
    "scrolled": false
   },
   "outputs": [
    {
     "name": "stdout",
     "output_type": "stream",
     "text": [
      "Requirement already satisfied: pyqt5 in d:\\self projects\\tensorflow object detection\\tfodcourse\\obdet\\lib\\site-packages (5.15.7)\n",
      "Requirement already satisfied: lxml in d:\\self projects\\tensorflow object detection\\tfodcourse\\obdet\\lib\\site-packages (4.9.1)\n",
      "Requirement already satisfied: PyQt5-sip<13,>=12.11 in d:\\self projects\\tensorflow object detection\\tfodcourse\\obdet\\lib\\site-packages (from pyqt5) (12.11.0)\n",
      "Requirement already satisfied: PyQt5-Qt5>=5.15.0 in d:\\self projects\\tensorflow object detection\\tfodcourse\\obdet\\lib\\site-packages (from pyqt5) (5.15.2)\n"
     ]
    }
   ],
   "source": [
    "!pip install --upgrade pyqt5 lxml"
   ]
  },
  {
   "cell_type": "code",
   "execution_count": 27,
   "metadata": {},
   "outputs": [],
   "source": [
    "LABELIMG_PATH = os.path.join('Tensorflow', 'labelimg')"
   ]
  },
  {
   "cell_type": "code",
   "execution_count": 28,
   "metadata": {},
   "outputs": [],
   "source": [
    "if not os.path.exists(LABELIMG_PATH):\n",
    "    !mkdir {LABELIMG_PATH}\n",
    "    !git clone https://github.com/tzutalin/labelImg {LABELIMG_PATH}"
   ]
  },
  {
   "cell_type": "code",
   "execution_count": 29,
   "metadata": {},
   "outputs": [],
   "source": [
    "if os.name == 'posix':\n",
    "    !make qt5py3\n",
    "if os.name =='nt':\n",
    "    !cd {LABELIMG_PATH} && pyrcc5 -o libs/resources.py resources.qrc"
   ]
  },
  {
   "cell_type": "code",
   "execution_count": 30,
   "metadata": {},
   "outputs": [
    {
     "name": "stdout",
     "output_type": "stream",
     "text": [
      "Image:D:\\Self Projects\\TensorFlow Object Detection\\TFODCourse\\Tensorflow\\workspace\\images\\collectedimages\\Left\\Left.8bfd541a-065c-11ed-ae8c-489ebd28684c.jpg -> Annotation:D:/Self Projects/TensorFlow Object Detection/TFODCourse/Tensorflow/workspace/images/collectedimages/Left\\Left.8bfd541a-065c-11ed-ae8c-489ebd28684c.xml\n",
      "Image:D:\\Self Projects\\TensorFlow Object Detection\\TFODCourse\\Tensorflow\\workspace\\images\\collectedimages\\Left\\Left.8bfd541a-065c-11ed-ae8c-489ebd28684c.jpg -> Annotation:D:/Self Projects/TensorFlow Object Detection/TFODCourse/Tensorflow/workspace/images/collectedimages/Left\\Left.8bfd541a-065c-11ed-ae8c-489ebd28684c.xml\n",
      "Image:D:\\Self Projects\\TensorFlow Object Detection\\TFODCourse\\Tensorflow\\workspace\\images\\collectedimages\\Left\\Left.8d474ce1-065c-11ed-beee-489ebd28684c.jpg -> Annotation:D:/Self Projects/TensorFlow Object Detection/TFODCourse/Tensorflow/workspace/images/collectedimages/Left\\Left.8d474ce1-065c-11ed-beee-489ebd28684c.xml\n",
      "Image:D:\\Self Projects\\TensorFlow Object Detection\\TFODCourse\\Tensorflow\\workspace\\images\\collectedimages\\Left\\Left.8e7d6dd2-065c-11ed-8ae9-489ebd28684c.jpg -> Annotation:D:/Self Projects/TensorFlow Object Detection/TFODCourse/Tensorflow/workspace/images/collectedimages/Left\\Left.8e7d6dd2-065c-11ed-8ae9-489ebd28684c.xml\n",
      "Image:D:\\Self Projects\\TensorFlow Object Detection\\TFODCourse\\Tensorflow\\workspace\\images\\collectedimages\\Left\\Left.8fb0cf36-065c-11ed-864e-489ebd28684c.jpg -> Annotation:D:/Self Projects/TensorFlow Object Detection/TFODCourse/Tensorflow/workspace/images/collectedimages/Left\\Left.8fb0cf36-065c-11ed-864e-489ebd28684c.xml\n",
      "Image:D:\\Self Projects\\TensorFlow Object Detection\\TFODCourse\\Tensorflow\\workspace\\images\\collectedimages\\Left\\Left.90e5b7c3-065c-11ed-b0dd-489ebd28684c.jpg -> Annotation:D:/Self Projects/TensorFlow Object Detection/TFODCourse/Tensorflow/workspace/images/collectedimages/Left\\Left.90e5b7c3-065c-11ed-b0dd-489ebd28684c.xml\n",
      "Image:D:\\Self Projects\\TensorFlow Object Detection\\TFODCourse\\Tensorflow\\workspace\\images\\collectedimages\\Left\\Left.95b9590c-065c-11ed-9e72-489ebd28684c.jpg -> Annotation:D:/Self Projects/TensorFlow Object Detection/TFODCourse/Tensorflow/workspace/images/collectedimages/Left\\Left.95b9590c-065c-11ed-9e72-489ebd28684c.xml\n",
      "Image:D:\\Self Projects\\TensorFlow Object Detection\\TFODCourse\\Tensorflow\\workspace\\images\\collectedimages\\Left\\Left.96eda4d4-065c-11ed-a73a-489ebd28684c.jpg -> Annotation:D:/Self Projects/TensorFlow Object Detection/TFODCourse/Tensorflow/workspace/images/collectedimages/Left\\Left.96eda4d4-065c-11ed-a73a-489ebd28684c.xml\n",
      "Image:D:\\Self Projects\\TensorFlow Object Detection\\TFODCourse\\Tensorflow\\workspace\\images\\collectedimages\\Left\\Left.921aa01f-065c-11ed-a898-489ebd28684c.jpg -> Annotation:D:/Self Projects/TensorFlow Object Detection/TFODCourse/Tensorflow/workspace/images/collectedimages/Left\\Left.921aa01f-065c-11ed-a898-489ebd28684c.xml\n",
      "Image:D:\\Self Projects\\TensorFlow Object Detection\\TFODCourse\\Tensorflow\\workspace\\images\\collectedimages\\Left\\Left.934fd67a-065c-11ed-a894-489ebd28684c.jpg -> Annotation:D:/Self Projects/TensorFlow Object Detection/TFODCourse/Tensorflow/workspace/images/collectedimages/Left\\Left.934fd67a-065c-11ed-a894-489ebd28684c.xml\n",
      "Image:D:\\Self Projects\\TensorFlow Object Detection\\TFODCourse\\Tensorflow\\workspace\\images\\collectedimages\\Left\\Left.94849778-065c-11ed-98ac-489ebd28684c.jpg -> Annotation:D:/Self Projects/TensorFlow Object Detection/TFODCourse/Tensorflow/workspace/images/collectedimages/Left\\Left.94849778-065c-11ed-98ac-489ebd28684c.xml\n",
      "Image:D:\\Self Projects\\TensorFlow Object Detection\\TFODCourse\\Tensorflow\\workspace\\images\\collectedimages\\Right\\Right.9d15f741-065c-11ed-befd-489ebd28684c.jpg -> Annotation:D:/Self Projects/TensorFlow Object Detection/TFODCourse/Tensorflow/workspace/images/collectedimages/Right\\Right.9d15f741-065c-11ed-befd-489ebd28684c.xml\n",
      "Image:D:\\Self Projects\\TensorFlow Object Detection\\TFODCourse\\Tensorflow\\workspace\\images\\collectedimages\\Right\\Right.9e4ab9dc-065c-11ed-b591-489ebd28684c.jpg -> Annotation:D:/Self Projects/TensorFlow Object Detection/TFODCourse/Tensorflow/workspace/images/collectedimages/Right\\Right.9e4ab9dc-065c-11ed-b591-489ebd28684c.xml\n",
      "Image:D:\\Self Projects\\TensorFlow Object Detection\\TFODCourse\\Tensorflow\\workspace\\images\\collectedimages\\Right\\Right.9f7d7f3b-065c-11ed-aa44-489ebd28684c.jpg -> Annotation:D:/Self Projects/TensorFlow Object Detection/TFODCourse/Tensorflow/workspace/images/collectedimages/Right\\Right.9f7d7f3b-065c-11ed-aa44-489ebd28684c.xml\n",
      "Image:D:\\Self Projects\\TensorFlow Object Detection\\TFODCourse\\Tensorflow\\workspace\\images\\collectedimages\\Right\\Right.a0b2403b-065c-11ed-a0f2-489ebd28684c.jpg -> Annotation:D:/Self Projects/TensorFlow Object Detection/TFODCourse/Tensorflow/workspace/images/collectedimages/Right\\Right.a0b2403b-065c-11ed-a0f2-489ebd28684c.xml\n",
      "Image:D:\\Self Projects\\TensorFlow Object Detection\\TFODCourse\\Tensorflow\\workspace\\images\\collectedimages\\Right\\Right.a1e6c7ba-065c-11ed-87dd-489ebd28684c.jpg -> Annotation:D:/Self Projects/TensorFlow Object Detection/TFODCourse/Tensorflow/workspace/images/collectedimages/Right\\Right.a1e6c7ba-065c-11ed-87dd-489ebd28684c.xml\n",
      "Image:D:\\Self Projects\\TensorFlow Object Detection\\TFODCourse\\Tensorflow\\workspace\\images\\collectedimages\\Right\\Right.a6bb7e6b-065c-11ed-8a41-489ebd28684c.jpg -> Annotation:D:/Self Projects/TensorFlow Object Detection/TFODCourse/Tensorflow/workspace/images/collectedimages/Right\\Right.a6bb7e6b-065c-11ed-8a41-489ebd28684c.xml\n",
      "Image:D:\\Self Projects\\TensorFlow Object Detection\\TFODCourse\\Tensorflow\\workspace\\images\\collectedimages\\Right\\Right.a7efb7f8-065c-11ed-be34-489ebd28684c.jpg -> Annotation:D:/Self Projects/TensorFlow Object Detection/TFODCourse/Tensorflow/workspace/images/collectedimages/Right\\Right.a7efb7f8-065c-11ed-be34-489ebd28684c.xml\n",
      "Image:D:\\Self Projects\\TensorFlow Object Detection\\TFODCourse\\Tensorflow\\workspace\\images\\collectedimages\\Right\\Right.a31dd356-065c-11ed-9aae-489ebd28684c.jpg -> Annotation:D:/Self Projects/TensorFlow Object Detection/TFODCourse/Tensorflow/workspace/images/collectedimages/Right\\Right.a31dd356-065c-11ed-9aae-489ebd28684c.xml\n",
      "Image:D:\\Self Projects\\TensorFlow Object Detection\\TFODCourse\\Tensorflow\\workspace\\images\\collectedimages\\Right\\Right.a451fc0f-065c-11ed-81dd-489ebd28684c.jpg -> Annotation:D:/Self Projects/TensorFlow Object Detection/TFODCourse/Tensorflow/workspace/images/collectedimages/Right\\Right.a451fc0f-065c-11ed-81dd-489ebd28684c.xml\n",
      "Image:D:\\Self Projects\\TensorFlow Object Detection\\TFODCourse\\Tensorflow\\workspace\\images\\collectedimages\\Right\\Right.a5870b02-065c-11ed-90f9-489ebd28684c.jpg -> Annotation:D:/Self Projects/TensorFlow Object Detection/TFODCourse/Tensorflow/workspace/images/collectedimages/Right\\Right.a5870b02-065c-11ed-90f9-489ebd28684c.xml\n",
      "Image:D:\\Self Projects\\TensorFlow Object Detection\\TFODCourse\\Tensorflow\\workspace\\images\\collectedimages\\Up\\Up.ae1a9479-065c-11ed-969e-489ebd28684c.jpg -> Annotation:D:/Self Projects/TensorFlow Object Detection/TFODCourse/Tensorflow/workspace/images/collectedimages/Up\\Up.ae1a9479-065c-11ed-969e-489ebd28684c.xml\n",
      "Image:D:\\Self Projects\\TensorFlow Object Detection\\TFODCourse\\Tensorflow\\workspace\\images\\collectedimages\\Up\\Up.af4d8135-065c-11ed-b7eb-489ebd28684c.jpg -> Annotation:D:/Self Projects/TensorFlow Object Detection/TFODCourse/Tensorflow/workspace/images/collectedimages/Up\\Up.af4d8135-065c-11ed-b7eb-489ebd28684c.txt\n",
      "Image:D:\\Self Projects\\TensorFlow Object Detection\\TFODCourse\\Tensorflow\\workspace\\images\\collectedimages\\Up\\Up.af4d8135-065c-11ed-b7eb-489ebd28684c.jpg -> Annotation:D:/Self Projects/TensorFlow Object Detection/TFODCourse/Tensorflow/workspace/images/collectedimages/Up\\Up.af4d8135-065c-11ed-b7eb-489ebd28684c.xml\n",
      "Image:D:\\Self Projects\\TensorFlow Object Detection\\TFODCourse\\Tensorflow\\workspace\\images\\collectedimages\\Up\\Up.b1b57ccb-065c-11ed-964c-489ebd28684c.jpg -> Annotation:D:/Self Projects/TensorFlow Object Detection/TFODCourse/Tensorflow/workspace/images/collectedimages/Up\\Up.b1b57ccb-065c-11ed-964c-489ebd28684c.xml\n",
      "Image:D:\\Self Projects\\TensorFlow Object Detection\\TFODCourse\\Tensorflow\\workspace\\images\\collectedimages\\Up\\Up.b2e953a6-065c-11ed-a217-489ebd28684c.jpg -> Annotation:D:/Self Projects/TensorFlow Object Detection/TFODCourse/Tensorflow/workspace/images/collectedimages/Up\\Up.b2e953a6-065c-11ed-a217-489ebd28684c.xml\n",
      "Image:D:\\Self Projects\\TensorFlow Object Detection\\TFODCourse\\Tensorflow\\workspace\\images\\collectedimages\\Up\\Up.b7bb2118-065c-11ed-8c17-489ebd28684c.jpg -> Annotation:D:/Self Projects/TensorFlow Object Detection/TFODCourse/Tensorflow/workspace/images/collectedimages/Up\\Up.b7bb2118-065c-11ed-8c17-489ebd28684c.xml\n",
      "Image:D:\\Self Projects\\TensorFlow Object Detection\\TFODCourse\\Tensorflow\\workspace\\images\\collectedimages\\Up\\Up.b7bb2118-065c-11ed-8c17-489ebd28684c.jpg -> Annotation:D:/Self Projects/TensorFlow Object Detection/TFODCourse/Tensorflow/workspace/images/collectedimages/Up\\Up.b7bb2118-065c-11ed-8c17-489ebd28684c.xml\n",
      "Image:D:\\Self Projects\\TensorFlow Object Detection\\TFODCourse\\Tensorflow\\workspace\\images\\collectedimages\\Up\\Up.b7bb2118-065c-11ed-8c17-489ebd28684c.jpg -> Annotation:D:/Self Projects/TensorFlow Object Detection/TFODCourse/Tensorflow/workspace/images/collectedimages/Up\\Up.b7bb2118-065c-11ed-8c17-489ebd28684c.xml\n",
      "Image:D:\\Self Projects\\TensorFlow Object Detection\\TFODCourse\\Tensorflow\\workspace\\images\\collectedimages\\Up\\Up.b7bb2118-065c-11ed-8c17-489ebd28684c.jpg -> Annotation:D:/Self Projects/TensorFlow Object Detection/TFODCourse/Tensorflow/workspace/images/collectedimages/Up\\Up.b7bb2118-065c-11ed-8c17-489ebd28684c.xml\n",
      "Image:D:\\Self Projects\\TensorFlow Object Detection\\TFODCourse\\Tensorflow\\workspace\\images\\collectedimages\\Up\\Up.b7bb2118-065c-11ed-8c17-489ebd28684c.jpg -> Annotation:D:/Self Projects/TensorFlow Object Detection/TFODCourse/Tensorflow/workspace/images/collectedimages/Up\\Up.b7bb2118-065c-11ed-8c17-489ebd28684c.xml\n",
      "Image:D:\\Self Projects\\TensorFlow Object Detection\\TFODCourse\\Tensorflow\\workspace\\images\\collectedimages\\Up\\Up.b8f252ff-065c-11ed-8f4c-489ebd28684c.jpg -> Annotation:D:/Self Projects/TensorFlow Object Detection/TFODCourse/Tensorflow/workspace/images/collectedimages/Up\\Up.b8f252ff-065c-11ed-8f4c-489ebd28684c.xml\n",
      "Image:D:\\Self Projects\\TensorFlow Object Detection\\TFODCourse\\Tensorflow\\workspace\\images\\collectedimages\\Up\\Up.b41e8a75-065c-11ed-8eb9-489ebd28684c.jpg -> Annotation:D:/Self Projects/TensorFlow Object Detection/TFODCourse/Tensorflow/workspace/images/collectedimages/Up\\Up.b41e8a75-065c-11ed-8eb9-489ebd28684c.xml\n",
      "Image:D:\\Self Projects\\TensorFlow Object Detection\\TFODCourse\\Tensorflow\\workspace\\images\\collectedimages\\Up\\Up.b081cd8c-065c-11ed-8c67-489ebd28684c.jpg -> Annotation:D:/Self Projects/TensorFlow Object Detection/TFODCourse/Tensorflow/workspace/images/collectedimages/Up\\Up.b081cd8c-065c-11ed-8c67-489ebd28684c.xml\n",
      "Image:D:\\Self Projects\\TensorFlow Object Detection\\TFODCourse\\Tensorflow\\workspace\\images\\collectedimages\\Up\\Up.b684b12d-065c-11ed-b4f7-489ebd28684c.jpg -> Annotation:D:/Self Projects/TensorFlow Object Detection/TFODCourse/Tensorflow/workspace/images/collectedimages/Up\\Up.b684b12d-065c-11ed-b4f7-489ebd28684c.xml\n",
      "Image:D:\\Self Projects\\TensorFlow Object Detection\\TFODCourse\\Tensorflow\\workspace\\images\\collectedimages\\Up\\Up.b5519e38-065c-11ed-af21-489ebd28684c.jpg -> Annotation:D:/Self Projects/TensorFlow Object Detection/TFODCourse/Tensorflow/workspace/images/collectedimages/Up\\Up.b5519e38-065c-11ed-af21-489ebd28684c.xml\n",
      "Image:D:\\Self Projects\\TensorFlow Object Detection\\TFODCourse\\Tensorflow\\workspace\\images\\collectedimages\\Down\\Down.bf201141-065c-11ed-9d7e-489ebd28684c.jpg -> Annotation:D:/Self Projects/TensorFlow Object Detection/TFODCourse/Tensorflow/workspace/images/collectedimages/Down\\Down.bf201141-065c-11ed-9d7e-489ebd28684c.xml\n",
      "Image:D:\\Self Projects\\TensorFlow Object Detection\\TFODCourse\\Tensorflow\\workspace\\images\\collectedimages\\Down\\Down.c2bcd8f3-065c-11ed-a8b2-489ebd28684c.jpg -> Annotation:D:/Self Projects/TensorFlow Object Detection/TFODCourse/Tensorflow/workspace/images/collectedimages/Down\\Down.c2bcd8f3-065c-11ed-a8b2-489ebd28684c.xml\n",
      "Image:D:\\Self Projects\\TensorFlow Object Detection\\TFODCourse\\Tensorflow\\workspace\\images\\collectedimages\\Down\\Down.c3f1732c-065c-11ed-a59d-489ebd28684c.jpg -> Annotation:D:/Self Projects/TensorFlow Object Detection/TFODCourse/Tensorflow/workspace/images/collectedimages/Down\\Down.c3f1732c-065c-11ed-a59d-489ebd28684c.xml\n",
      "Image:D:\\Self Projects\\TensorFlow Object Detection\\TFODCourse\\Tensorflow\\workspace\\images\\collectedimages\\Down\\Down.c78c2162-065c-11ed-9d1c-489ebd28684c.jpg -> Annotation:D:/Self Projects/TensorFlow Object Detection/TFODCourse/Tensorflow/workspace/images/collectedimages/Down\\Down.c78c2162-065c-11ed-9d1c-489ebd28684c.xml\n",
      "Image:D:\\Self Projects\\TensorFlow Object Detection\\TFODCourse\\Tensorflow\\workspace\\images\\collectedimages\\Down\\Down.c188d92c-065c-11ed-a8b1-489ebd28684c.jpg -> Annotation:D:/Self Projects/TensorFlow Object Detection/TFODCourse/Tensorflow/workspace/images/collectedimages/Down\\Down.c188d92c-065c-11ed-a8b1-489ebd28684c.xml\n",
      "Image:D:\\Self Projects\\TensorFlow Object Detection\\TFODCourse\\Tensorflow\\workspace\\images\\collectedimages\\Down\\Down.c5249b02-065c-11ed-918c-489ebd28684c.jpg -> Annotation:D:/Self Projects/TensorFlow Object Detection/TFODCourse/Tensorflow/workspace/images/collectedimages/Down\\Down.c5249b02-065c-11ed-918c-489ebd28684c.xml\n",
      "Image:D:\\Self Projects\\TensorFlow Object Detection\\TFODCourse\\Tensorflow\\workspace\\images\\collectedimages\\Down\\Down.c054852e-065c-11ed-b29d-489ebd28684c.jpg -> Annotation:D:/Self Projects/TensorFlow Object Detection/TFODCourse/Tensorflow/workspace/images/collectedimages/Down\\Down.c054852e-065c-11ed-b29d-489ebd28684c.xml\n",
      "Image:D:\\Self Projects\\TensorFlow Object Detection\\TFODCourse\\Tensorflow\\workspace\\images\\collectedimages\\Down\\Down.c6576061-065c-11ed-8722-489ebd28684c.jpg -> Annotation:D:/Self Projects/TensorFlow Object Detection/TFODCourse/Tensorflow/workspace/images/collectedimages/Down\\Down.c6576061-065c-11ed-8722-489ebd28684c.xml\n"
     ]
    }
   ],
   "source": [
    "!cd {LABELIMG_PATH} && python labelImg.py"
   ]
  },
  {
   "cell_type": "markdown",
   "metadata": {},
   "source": [
    "# 6. Move them into a Training and Testing Partition"
   ]
  },
  {
   "cell_type": "markdown",
   "metadata": {},
   "source": [
    "# OPTIONAL - 7. Compress them for Colab Training"
   ]
  },
  {
   "cell_type": "code",
   "execution_count": 20,
   "metadata": {},
   "outputs": [],
   "source": [
    "TRAIN_PATH = os.path.join('Tensorflow', 'workspace', 'images', 'train')\n",
    "TEST_PATH = os.path.join('Tensorflow', 'workspace', 'images', 'test')\n",
    "ARCHIVE_PATH = os.path.join('Tensorflow', 'workspace', 'images', 'archive.tar.gz')"
   ]
  },
  {
   "cell_type": "code",
   "execution_count": 21,
   "metadata": {},
   "outputs": [],
   "source": [
    "!tar -czf {ARCHIVE_PATH} {TRAIN_PATH} {TEST_PATH}"
   ]
  },
  {
   "cell_type": "code",
   "execution_count": null,
   "metadata": {},
   "outputs": [],
   "source": []
  }
 ],
 "metadata": {
  "kernelspec": {
   "display_name": "obdet",
   "language": "python",
   "name": "obdet"
  },
  "language_info": {
   "codemirror_mode": {
    "name": "ipython",
    "version": 3
   },
   "file_extension": ".py",
   "mimetype": "text/x-python",
   "name": "python",
   "nbconvert_exporter": "python",
   "pygments_lexer": "ipython3",
   "version": "3.10.2"
  }
 },
 "nbformat": 4,
 "nbformat_minor": 2
}
